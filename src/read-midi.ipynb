{
 "cells": [
  {
   "cell_type": "markdown",
   "metadata": {},
   "source": [
    "Here basically we will be trying to read midi files and see if we can get the note names\n"
   ]
  },
  {
   "cell_type": "code",
   "execution_count": 12,
   "metadata": {},
   "outputs": [],
   "source": [
    "import mido\n",
    "import pretty_midi\n",
    "from mido import MidiFile\n",
    "import pandas as pd\n",
    "import numpy as np"
   ]
  },
  {
   "cell_type": "code",
   "execution_count": 2,
   "metadata": {},
   "outputs": [],
   "source": [
    "midi = MidiFile(\"../data/midi/0/100680.mid\", clip=True)"
   ]
  },
  {
   "cell_type": "code",
   "execution_count": 3,
   "metadata": {},
   "outputs": [],
   "source": [
    "def get_time_signature(midi):\n",
    "    for track in midi.tracks:\n",
    "        for msg in track:\n",
    "            if msg.is_meta and msg.type == \"time_signature\":\n",
    "                numerator = msg.numerator\n",
    "                denominator = msg.denominator\n",
    "                return numerator, denominator\n",
    "    return 4, 4  # default\n",
    "\n",
    "\n",
    "def get_key_signature(track):\n",
    "    for msg in track:\n",
    "        if msg.is_meta and msg.type == \"key_signature\":\n",
    "            key = msg.key\n",
    "            return key\n",
    "    return \"None\"\n",
    "\n",
    "\n",
    "def get_measure_length(midi):\n",
    "    n, d = get_time_signature(midi)\n",
    "    beat_length = midi.ticks_per_beat\n",
    "    measure_length = n * beat_length\n",
    "    return beat_length, measure_length"
   ]
  },
  {
   "cell_type": "code",
   "execution_count": 4,
   "metadata": {},
   "outputs": [],
   "source": [
    "from mido.midifiles.midifiles import DEFAULT_TICKS_PER_BEAT\n",
    "\n",
    "\n",
    "class CutomMidiFile(mido.MidiFile):\n",
    "    def __init__(\n",
    "        self,\n",
    "        filename=None,\n",
    "        file=None,\n",
    "        type=1,\n",
    "        ticks_per_beat=...,\n",
    "        charset=\"latin1\",\n",
    "        debug=False,\n",
    "        clip=False,\n",
    "        tracks=None,\n",
    "    ):\n",
    "        super().__init__(\n",
    "            filename, file, type, ticks_per_beat, charset, debug, clip, tracks\n",
    "        )\n",
    "\n",
    "    def properties(self):\n",
    "        pass\n",
    "\n",
    "    def get_time_signature(self):\n",
    "        for track in self.tracks:\n",
    "            for msg in track:\n",
    "                if msg.is_meta and msg.type == \"time_signature\":\n",
    "                    numerator = msg.numerator\n",
    "                    denominator = msg.denominator\n",
    "                    return numerator, denominator\n",
    "        return 4, 4  # default\n",
    "\n",
    "    def get_key_signature(self, track_idx: int = None):\n",
    "        if track_idx:\n",
    "            lookup = self.tracks[track_idx]\n",
    "        else:\n",
    "            lookup = self\n",
    "        for msg in lookup:\n",
    "            if msg.is_meta and msg.type == \"key_signature\":\n",
    "                key = msg.key\n",
    "                return key\n",
    "        return \"None\"\n",
    "\n",
    "    def get_measure_length(self):\n",
    "        n, d = self.get_time_signature()\n",
    "        beat_length = self.ticks_per_beat\n",
    "        measure_length = n * beat_length\n",
    "        return beat_length, measure_length\n",
    "\n",
    "    def n_tracks(self):\n",
    "        return len(self.tracks)"
   ]
  },
  {
   "cell_type": "code",
   "execution_count": 5,
   "metadata": {},
   "outputs": [],
   "source": [
    "def parse_midi(midi, track):\n",
    "    note_msgs = []\n",
    "    for msg in midi.tracks[track]:\n",
    "        if msg.type == \"note_on\":\n",
    "            note_msgs.append([msg, pretty_midi.note_number_to_name(msg.note)])\n",
    "    return note_msgs"
   ]
  },
  {
   "cell_type": "markdown",
   "metadata": {},
   "source": [
    "numerator -> number of beats in a measure\n",
    "x -> number of ticks per beat\n",
    "\n",
    "number of ticks per measure = ? = n \\* x\n"
   ]
  },
  {
   "cell_type": "code",
   "execution_count": 21,
   "metadata": {},
   "outputs": [],
   "source": [
    "sargam = np.array([\"S\", \"r\", \"R\", \"g\", \"G\", \"M\", \"m\", \"d\", \"D\", \"n\", \"N\"])\n",
    "lower = np.array([f\",{_}\" for _ in sargam])\n",
    "upper = np.array([f\"{_}'\" for _ in sargam])\n",
    "western = np.array([\"A\", \"A#\", \"B\", \"C\", \"C#\", \"D\", \"D#\", \"E\", \"F\", \"F#\", \"G\", \"G#\"])"
   ]
  },
  {
   "cell_type": "code",
   "execution_count": 28,
   "metadata": {},
   "outputs": [
    {
     "name": "stdout",
     "output_type": "stream",
     "text": [
      "C\n",
      "C#\n",
      "D\n",
      "D#\n",
      "E\n",
      "F\n",
      "F#\n",
      "G\n",
      "G#\n",
      "A\n",
      "A#\n",
      "B\n"
     ]
    }
   ],
   "source": [
    "for i in range(60, 72):\n",
    "    print(pretty_midi.note_number_to_name(i)[:-1])"
   ]
  },
  {
   "cell_type": "code",
   "execution_count": 11,
   "metadata": {},
   "outputs": [
    {
     "name": "stdout",
     "output_type": "stream",
     "text": [
      "MetaMessage('key_signature', key='E', time=0)\n",
      "MetaMessage('key_signature', key='D', time=1)\n",
      "MetaMessage('key_signature', key='A', time=1)\n",
      "MetaMessage('key_signature', key='A', time=1)\n",
      "MetaMessage('key_signature', key='C', time=1)\n",
      "MetaMessage('key_signature', key='A', time=1)\n",
      "MetaMessage('key_signature', key='A', time=1)\n",
      "MetaMessage('key_signature', key='E', time=0)\n",
      "MetaMessage('key_signature', key='D', time=0)\n"
     ]
    }
   ],
   "source": [
    "beats_per_measure = 4\n",
    "ticks_per_beat = midi.ticks_per_beat\n",
    "ticks_per_measure = ticks_per_beat * beats_per_measure\n",
    "song = []\n",
    "measure = []\n",
    "for i, msg in enumerate(midi.tracks[0]):\n",
    "    if msg.type == \"time_signature\":\n",
    "        beats_per_measure = msg.numerator\n",
    "        ticks_per_measure = ticks_per_beat * beats_per_measure\n",
    "    else:\n",
    "        try:\n",
    "            nxt_msg = midi.tracks[0][i+1]\n",
    "        except:\n",
    "            break\n",
    "        if nxt_msg.type == 'end_of_track':\n",
    "            note = pretty_midi.note_number_to_name(msg.note)\n",
    "            measure.append(note)\n",
    "            song.append(measure)\n",
    "            print(\"track end\")\n",
    "            break\n",
    "        if nxt_msg.note == msg.note:\n",
    "            m\n",
    "        if msg.velocity > 0:\n",
    "            \n",
    "        \n",
    "            "
   ]
  },
  {
   "cell_type": "code",
   "execution_count": 34,
   "metadata": {},
   "outputs": [
    {
     "data": {
      "text/plain": [
       "0"
      ]
     },
     "execution_count": 34,
     "metadata": {},
     "output_type": "execute_result"
    }
   ],
   "source": [
    "midi.tracks[0][-2].velocity"
   ]
  },
  {
   "cell_type": "code",
   "execution_count": null,
   "metadata": {},
   "outputs": [],
   "source": []
  }
 ],
 "metadata": {
  "kernelspec": {
   "display_name": "mir",
   "language": "python",
   "name": "python3"
  },
  "language_info": {
   "codemirror_mode": {
    "name": "ipython",
    "version": 3
   },
   "file_extension": ".py",
   "mimetype": "text/x-python",
   "name": "python",
   "nbconvert_exporter": "python",
   "pygments_lexer": "ipython3",
   "version": "3.11.6"
  },
  "orig_nbformat": 4
 },
 "nbformat": 4,
 "nbformat_minor": 2
}
